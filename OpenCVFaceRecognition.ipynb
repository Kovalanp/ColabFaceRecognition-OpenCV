{
  "nbformat": 4,
  "nbformat_minor": 0,
  "metadata": {
    "colab": {
      "provenance": []
    },
    "kernelspec": {
      "name": "python3",
      "display_name": "Python 3"
    },
    "language_info": {
      "name": "python"
    }
  },
  "cells": [
    {
      "cell_type": "code",
      "execution_count": null,
      "metadata": {
        "id": "0ic-jasPVq4d"
      },
      "outputs": [],
      "source": [
        "import cv2\n",
        "from matplotlib import pyplot as plt\n",
        "%matplotlib inline\n",
        "\n",
        "cascade = cv2.CascadeClassifier(\"ColabFaceRecognition-OpenCV/haarcascade_frontalface_default.xml\")\n",
        "img = cv2.imread(\"ColabFaceRecognition-OpenCV/me.jpg\")\n",
        "img = cv2.cvtColor(img, cv2.COLOR_BGR2RGB)\n",
        "gray = cv2.cvtColor(img, cv2.COLOR_BGR2GRAY)\n",
        "faces = cascade.detectMultiScale(gray, 2, 3)\n",
        "for (x, y, w, h) in faces:\n",
        "    cv2.rectangle(img, (x, y), (x+w, y+h), (255, 255, 0), 3)\n",
        "    cv2.putText(img, \"Face Detected\", (x, y - 10), 1, 3, (255, 255, 255), 3)\n",
        "\n",
        "plt.imshow(img)"
      ]
    }
  ]
}